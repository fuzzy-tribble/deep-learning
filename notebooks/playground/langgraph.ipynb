{
 "cells": [
  {
   "cell_type": "markdown",
   "id": "4acc01c9",
   "metadata": {},
   "source": [
    "# LangGraph MultiModel Setup, Init, Tests, Model Exploration"
   ]
  },
  {
   "cell_type": "markdown",
   "id": "253ab651",
   "metadata": {},
   "source": [
    "We simulate three agents with distinct character: a creative agent, logical agent, and critical agent to test langgrophs multi-model broad capabilities."
   ]
  },
  {
   "cell_type": "markdown",
   "id": "a8918887",
   "metadata": {},
   "source": [
    "## LangGraph101 - like a multi-agent, tool-using-memory aware sate machine\n",
    "\n",
    "**Key Concepts:**\n",
    "- Each node (an llm or function) is a step\n",
    "- Edges decide where to go next\n",
    "- A shared state is passed and updates at each step (a dict)\n",
    "- The graph runs until halting condition\n",
    "\n",
    "**For example**\n",
    "1. You give it initial state: {\"messages\": [User message]}\n",
    "2. LangGraph calls your broadcast_router() → [\"creative\", \"logical\", \"critic\"]\n",
    "3. It runs all 3 nodes in parallel (each reads state, adds its response)\n",
    "4. The graph checks the finish condition\n",
    "5. If not done, it asks: which nodes next?\n",
    "6. Loops again or stops"
   ]
  },
  {
   "cell_type": "code",
   "execution_count": 1,
   "id": "ad5f7794",
   "metadata": {},
   "outputs": [
    {
     "data": {
      "text/plain": [
       "True"
      ]
     },
     "execution_count": 1,
     "metadata": {},
     "output_type": "execute_result"
    }
   ],
   "source": [
    "import os\n",
    "\n",
    "from langgraph.graph import StateGraph\n",
    "from langchain_core.messages import HumanMessage, AIMessage\n",
    "from langchain_core.runnables import Runnable\n",
    "\n",
    "from openai import OpenAI\n",
    "from dotenv import load_dotenv\n",
    "\n",
    "load_dotenv()"
   ]
  },
  {
   "cell_type": "code",
   "execution_count": 2,
   "id": "2e18c575",
   "metadata": {},
   "outputs": [],
   "source": [
    "api_key = os.environ[\"OPENROUTER_API_KEY\"]"
   ]
  },
  {
   "cell_type": "code",
   "execution_count": 3,
   "id": "23721e6b",
   "metadata": {},
   "outputs": [],
   "source": [
    "openrouter_client = OpenAI(\n",
    "    base_url=\"https://openrouter.ai/api/v1\",\n",
    "    api_key=api_key,\n",
    ")"
   ]
  },
  {
   "cell_type": "markdown",
   "id": "10b20267",
   "metadata": {},
   "source": [
    "Wrap openrouter into a langgraph compatible agent"
   ]
  },
  {
   "cell_type": "code",
   "execution_count": 4,
   "id": "d9df7a3e",
   "metadata": {},
   "outputs": [],
   "source": [
    "def make_openrouter_agent(model: str, role_name: str, prompt_prefix: str = \"\"):\n",
    "    def _run(state: dict) -> dict:\n",
    "        history = state.get(\"messages\", [])\n",
    "        prompt = (\n",
    "            prompt_prefix + \"\\n\" + history[-1].content if history else \"Let's start.\"\n",
    "        )\n",
    "\n",
    "        print(f\"🟡 Sending to {role_name} ({model}) with prompt:\\n{prompt}\\n\")\n",
    "\n",
    "        try:\n",
    "            response = openrouter_client.chat.completions.create(\n",
    "                model=model,\n",
    "                messages=[{\"role\": \"user\", \"content\": prompt}],\n",
    "            )\n",
    "            reply = response.choices[0].message.content\n",
    "            print(f\"🟢 {role_name} responded:\\n{reply}\\n\")\n",
    "        except Exception as e:\n",
    "            reply = f\"[ERROR] {e}\"\n",
    "            print(f\"🔴 {role_name} failed: {e}\\n\")\n",
    "\n",
    "        history.append(AIMessage(content=f\"[{role_name}] {reply}\"))\n",
    "        return {\"messages\": history}\n",
    "\n",
    "    return _run"
   ]
  },
  {
   "cell_type": "markdown",
   "id": "af189ccb",
   "metadata": {},
   "source": [
    "Define agent nodes"
   ]
  },
  {
   "cell_type": "code",
   "execution_count": 5,
   "id": "9bd0ac5c",
   "metadata": {},
   "outputs": [],
   "source": [
    "nodes = {\n",
    "    \"creative\": make_openrouter_agent(\n",
    "        model=\"mistralai/mistral-7b-instruct\",\n",
    "        role_name=\"CreativeAgent\",\n",
    "        prompt_prefix=\"Respond creatively and freely.\",\n",
    "    ),\n",
    "    \"logical\": make_openrouter_agent(\n",
    "        model=\"deepseek/deepseek-r1-0528-qwen3-8b\",\n",
    "        role_name=\"LogicalAgent\",\n",
    "        prompt_prefix=\"Be analytical, precise, and structured.\",\n",
    "    ),\n",
    "    \"critic\": make_openrouter_agent(\n",
    "        model=\"google/gemma-2-9b-it\",\n",
    "        role_name=\"CriticAgent\",\n",
    "        prompt_prefix=\"Critique the last idea rationally and constructively.\",\n",
    "    ),\n",
    "}"
   ]
  },
  {
   "cell_type": "code",
   "execution_count": 6,
   "id": "8ec3afd1",
   "metadata": {},
   "outputs": [],
   "source": [
    "# Shared state type\n",
    "class GraphState(dict):\n",
    "    pass"
   ]
  },
  {
   "cell_type": "markdown",
   "id": "92bcca8d",
   "metadata": {},
   "source": [
    "## Graph 1: Broadcast Messages to All Agents"
   ]
  },
  {
   "cell_type": "code",
   "execution_count": 13,
   "id": "e8839a28",
   "metadata": {},
   "outputs": [],
   "source": [
    "def broadcast_router(state):\n",
    "    print(\"📢 Router function called\")\n",
    "    return {\"__branch__\": [\"creative\", \"logical\", \"critic\"]}"
   ]
  },
  {
   "cell_type": "code",
   "execution_count": 19,
   "id": "7427c5f7",
   "metadata": {},
   "outputs": [
    {
     "data": {
      "image/png": "[encoded data removed]",
      "text/plain": [
       "<langgraph.graph.state.CompiledStateGraph object at 0x10c9bb310>"
      ]
     },
     "execution_count": 19,
     "metadata": {},
     "output_type": "execute_result"
    }
   ],
   "source": [
    "# Build the graph\n",
    "graph1 = StateGraph(GraphState)\n",
    "\n",
    "for name, func in nodes.items():\n",
    "    graph1.add_node(name, func)\n",
    "\n",
    "graph1.add_node(\"broadcast_router\", broadcast_router)\n",
    "graph1.set_entry_point(\"broadcast_router\")\n",
    "\n",
    "graph1.add_edge(\"broadcast_router\", \"creative\")\n",
    "graph1.add_edge(\"broadcast_router\", \"logical\")\n",
    "graph1.add_edge(\"broadcast_router\", \"critic\")\n",
    "\n",
    "# end node to finalize the conversation\n",
    "for name in nodes.keys():\n",
    "    graph1.add_edge(name, \"__end__\")\n",
    "\n",
    "# # or we could loop back instead of ending\n",
    "# graph.add_edge(\"creative\", broadcast_router)\n",
    "# graph.add_edge(\"logical\", broadcast_router)\n",
    "# graph.add_edge(\"critic\", broadcast_router)\n",
    "\n",
    "compiled_graph1 = graph1.compile()\n",
    "compiled_graph1"
   ]
  },
  {
   "cell_type": "markdown",
   "id": "3ab5bab7",
   "metadata": {},
   "source": [
    "So in this graph the entry point is a user message that goes to broadcast_router, which then sends the message to all agents and then ends.\n",
    "\n",
    "Test it"
   ]
  },
  {
   "cell_type": "code",
   "execution_count": 20,
   "id": "4d72ee59",
   "metadata": {},
   "outputs": [],
   "source": [
    "# Initial state with a human message\n",
    "initial_state = {\n",
    "    \"messages\": [HumanMessage(content=\"Design a chair that helps people think better.\")]\n",
    "}"
   ]
  },
  {
   "cell_type": "code",
   "execution_count": 21,
   "id": "a35a5e31",
   "metadata": {},
   "outputs": [
    {
     "name": "stdout",
     "output_type": "stream",
     "text": [
      "📢 Router function called\n",
      "🟡 Sending to CreativeAgent (mistralai/mistral-7b-instruct) with prompt:\n",
      "Let's start.\n",
      "\n",
      "🟡 Sending to CriticAgent (google/gemma-2-9b-it) with prompt:\n",
      "Let's start.\n",
      "\n",
      "🟡 Sending to LogicalAgent (deepseek/deepseek-r1-0528-qwen3-8b) with prompt:\n",
      "Let's start.\n",
      "\n",
      "🟢 CriticAgent responded:\n",
      "Great! What can I do for you today? 😊\n",
      "\n",
      "Are you looking to:\n",
      "\n",
      "* **Chat about a specific topic?**\n",
      "\n",
      "* **Get help with a task?**\n",
      "* **Write something creative?**\n",
      "* **Just have a friendly conversation?**\n",
      "\n",
      "Let me know and we can get started!  ✨\n",
      "\n",
      "\n",
      "🟢 CreativeAgent responded:\n",
      " Of course! I'm here to help. What would you like to know or discuss today? Whether it's about a specific topic or a question you have in mind, feel free to ask, and I'll do my best to provide a useful response. 😊\n",
      "\n",
      "🟢 LogicalAgent responded:\n",
      "Hello! It sounds like you're ready to dive in. To make the most of this, I need a little more context—what would you like to start doing or discussing? 😊\n",
      "\n",
      "For example:\n",
      "- Do you have a specific question, topic, or task in mind?\n",
      "- Or is this the beginning of a new project or activity?\n",
      "\n",
      "I'm here to help however I can!\n",
      "\n",
      "Final state: None\n"
     ]
    }
   ],
   "source": [
    "# Run the graph\n",
    "final_state = compiled_graph1.invoke(initial_state)\n",
    "print(\"Final state:\", final_state)"
   ]
  }
 ],
 "metadata": {
  "kernelspec": {
   "display_name": ".venv-py31013",
   "language": "python",
   "name": "python3"
  },
  "language_info": {
   "codemirror_mode": {
    "name": "ipython",
    "version": 3
   },
   "file_extension": ".py",
   "mimetype": "text/x-python",
   "name": "python",
   "nbconvert_exporter": "python",
   "pygments_lexer": "ipython3",
   "version": "3.10.13"
  }
 },
 "nbformat": 4,
 "nbformat_minor": 5
}
