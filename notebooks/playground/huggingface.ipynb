{
 "cells": [
  {
   "cell_type": "markdown",
   "id": "4acc01c9",
   "metadata": {},
   "source": [
    "# HuggingFace Setup, Init, Tests, Model Exploration"
   ]
  },
  {
   "cell_type": "code",
   "execution_count": 1,
   "id": "8ec3afd1",
   "metadata": {},
   "outputs": [
    {
     "data": {
      "text/plain": [
       "True"
      ]
     },
     "execution_count": 1,
     "metadata": {},
     "output_type": "execute_result"
    }
   ],
   "source": [
    "import os\n",
    "from dotenv import load_dotenv\n",
    "\n",
    "load_dotenv()"
   ]
  },
  {
   "cell_type": "code",
   "execution_count": null,
   "id": "587059a0",
   "metadata": {},
   "outputs": [],
   "source": [
    "# --- HuggingFace ---\n",
    "from huggingface_hub import InferenceClient\n",
    "\n",
    "# --- Required env var ---\n",
    "HUGGINGFACE_TOKEN = os.environ[\"HUGGINGFACE_TOKEN\"]"
   ]
  },
  {
   "cell_type": "code",
   "execution_count": 5,
   "id": "cc7747e8",
   "metadata": {},
   "outputs": [
    {
     "name": "stdout",
     "output_type": "stream",
     "text": [
      "✅ Hugging Face API: Inference working\n",
      "→ Entropy is a fundamental concept in physics and thermodynamics that can be explained in simple terms.\n",
      "\n",
      "**What is entropy?**\n",
      "\n",
      "Entropy is a measure of disorder or randomness in a system. It describes how organized or disorganized something is.\n",
      "\n",
      "**Think of it\n"
     ]
    }
   ],
   "source": [
    "try:\n",
    "    client = InferenceClient(\n",
    "        model=\"meta-llama/Meta-Llama-3-8B-Instruct\", token=HUGGINGFACE_TOKEN\n",
    "    )\n",
    "\n",
    "    # Send a chat-style prompt\n",
    "    response = client.chat_completion(\n",
    "        messages=[\n",
    "            {\n",
    "                \"role\": \"user\",\n",
    "                \"content\": \"Summarize the concept of entropy in simple terms.\",\n",
    "            }\n",
    "        ],\n",
    "        max_tokens=50,\n",
    "    )\n",
    "\n",
    "    print(\"✅ Hugging Face API: Inference working\")\n",
    "    print(\"→\", response.choices[0].message[\"content\"].strip())\n",
    "\n",
    "except Exception as e:\n",
    "    print(f\"❌ Hugging Face API: Failed - {e}\")"
   ]
  },
  {
   "cell_type": "code",
   "execution_count": null,
   "id": "6a7f5000",
   "metadata": {},
   "outputs": [],
   "source": []
  }
 ],
 "metadata": {
  "kernelspec": {
   "display_name": ".venv-py31013",
   "language": "python",
   "name": "python3"
  },
  "language_info": {
   "codemirror_mode": {
    "name": "ipython",
    "version": 3
   },
   "file_extension": ".py",
   "mimetype": "text/x-python",
   "name": "python",
   "nbconvert_exporter": "python",
   "pygments_lexer": "ipython3",
   "version": "3.10.13"
  }
 },
 "nbformat": 4,
 "nbformat_minor": 5
}
