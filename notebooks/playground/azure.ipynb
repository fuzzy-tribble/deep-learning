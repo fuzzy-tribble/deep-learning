{
 "cells": [
  {
   "cell_type": "markdown",
   "id": "4acc01c9",
   "metadata": {},
   "source": [
    "# Azure Setup, Init, Tests, Model Exploration"
   ]
  },
  {
   "cell_type": "code",
   "execution_count": 1,
   "id": "8ec3afd1",
   "metadata": {},
   "outputs": [
    {
     "data": {
      "text/plain": [
       "True"
      ]
     },
     "execution_count": 1,
     "metadata": {},
     "output_type": "execute_result"
    }
   ],
   "source": [
    "import os\n",
    "from openai import AzureOpenAI\n",
    "from dotenv import load_dotenv\n",
    "\n",
    "load_dotenv()"
   ]
  },
  {
   "cell_type": "markdown",
   "id": "688576a6",
   "metadata": {},
   "source": [
    "## Azure (OpenAI with different endpoints/credentials)"
   ]
  },
  {
   "cell_type": "markdown",
   "id": "de3eb9ae",
   "metadata": {},
   "source": [
    "The test structure for Azure OpenAI and OpenAI is nearly identical using the new SDK (openai>=1.0.0), EXCEPT api_type, api_key, api_base should be set to your azure endpoint and key.\n",
    "\n",
    "https://ai.azure.com/\n",
    "\n",
    "https://oai.azure.com/"
   ]
  },
  {
   "cell_type": "code",
   "execution_count": 3,
   "id": "662d6443",
   "metadata": {},
   "outputs": [
    {
     "data": {
      "text/plain": [
       "<openai.lib.azure.AzureOpenAI at 0x118173490>"
      ]
     },
     "execution_count": 3,
     "metadata": {},
     "output_type": "execute_result"
    }
   ],
   "source": [
    "# --- Load from env ---\n",
    "AZURE_OPENAI_ENDPOINT = os.environ[\n",
    "    \"AZURE_OPENAI_ENDPOINT\"\n",
    "]  # e.g. https://<resource>.cognitiveservices.azure.com/\n",
    "AZURE_OPENAI_KEY = os.environ[\"AZURE_OPENAI_KEY\"]\n",
    "AZURE_DEPLOYMENT_NAME = os.environ[\"AZURE_DEPLOYMENT_NAME\"]  # e.g. \"gpt-4.1\"\n",
    "AZURE_API_VERSION = os.environ[\"AZURE_API_VERSION\"]\n",
    "\n",
    "# --- Initialize client ---\n",
    "client = AzureOpenAI(\n",
    "    api_key=AZURE_OPENAI_KEY,\n",
    "    azure_endpoint=AZURE_OPENAI_ENDPOINT,\n",
    "    api_version=AZURE_API_VERSION,\n",
    ")\n",
    "client"
   ]
  },
  {
   "cell_type": "code",
   "execution_count": 4,
   "id": "34d499e8",
   "metadata": {},
   "outputs": [
    {
     "name": "stdout",
     "output_type": "stream",
     "text": [
      "✅ Azure OpenAI (AzureOpenAI class): ChatCompletion working\n",
      "→ Certainly! Here are three surrealist painters:\n",
      "\n",
      "1. Salvador Dalí  \n",
      "2. René Magritte  \n",
      "3. Max Ernst\n"
     ]
    }
   ],
   "source": [
    "# --- Test call ---\n",
    "try:\n",
    "    response = client.chat.completions.create(\n",
    "        model=AZURE_DEPLOYMENT_NAME,\n",
    "        messages=[\n",
    "            {\"role\": \"system\", \"content\": \"You are a helpful assistant.\"},\n",
    "            {\"role\": \"user\", \"content\": \"Name 3 surrealist painters.\"},\n",
    "        ],\n",
    "        max_completion_tokens=200,\n",
    "        temperature=0.7,\n",
    "    )\n",
    "    print(\"✅ Azure OpenAI (AzureOpenAI class): ChatCompletion working\")\n",
    "    print(\"→\", response.choices[0].message.content)\n",
    "\n",
    "except Exception as e:\n",
    "    print(f\"❌ Azure OpenAI (AzureOpenAI class): Failed - {e}\")"
   ]
  },
  {
   "cell_type": "code",
   "execution_count": null,
   "id": "a13545d0",
   "metadata": {},
   "outputs": [],
   "source": []
  }
 ],
 "metadata": {
  "kernelspec": {
   "display_name": ".venv-py31013",
   "language": "python",
   "name": "python3"
  },
  "language_info": {
   "codemirror_mode": {
    "name": "ipython",
    "version": 3
   },
   "file_extension": ".py",
   "mimetype": "text/x-python",
   "name": "python",
   "nbconvert_exporter": "python",
   "pygments_lexer": "ipython3",
   "version": "3.10.13"
  }
 },
 "nbformat": 4,
 "nbformat_minor": 5
}
